{
 "cells": [
  {
   "cell_type": "code",
   "execution_count": null,
   "id": "b60a996e-cf12-4062-be13-e7d09d159c19",
   "metadata": {},
   "outputs": [],
   "source": [
    "%matplotlib inline\n",
    "import pathlib as pl\n",
    "import time\n",
    "\n",
    "import contextily as cx\n",
    "import flopy\n",
    "import matplotlib.pyplot as plt\n",
    "import numpy as np"
   ]
  },
  {
   "cell_type": "code",
   "execution_count": null,
   "id": "f734e1e2-a5c0-42b0-93a0-1c8146fb0e93",
   "metadata": {},
   "outputs": [],
   "source": [
    "cx_provider = cx.providers.USGS.USTopo"
   ]
  },
  {
   "cell_type": "code",
   "execution_count": null,
   "id": "a442ab75-aeb8-4139-8c7c-03cd94633a8c",
   "metadata": {},
   "outputs": [],
   "source": [
    "def get_flow(bobj, totim):\n",
    "    Q = bobj.get_data(text=\"SFR\", totim=totim)[0][\"q\"].sum()\n",
    "    Q += bobj.get_data(text=\"DRN\", totim=totim)[0][\"q\"].sum()\n",
    "    Q += bobj.get_data(text=\"EVTA\", totim=totim)[0][\"q\"].sum()\n",
    "    return Q"
   ]
  },
  {
   "cell_type": "code",
   "execution_count": null,
   "id": "d209bbaf-05c4-4653-b4b4-4058fce11cdc",
   "metadata": {},
   "outputs": [],
   "source": [
    "ws = pl.Path(\"mf6_transient_base\")"
   ]
  },
  {
   "cell_type": "code",
   "execution_count": null,
   "id": "336fbcba-100c-4ef8-964b-77554465f5dc",
   "metadata": {},
   "outputs": [],
   "source": [
    "sim = flopy.mf6.MFSimulation.load(sim_ws=ws)"
   ]
  },
  {
   "cell_type": "code",
   "execution_count": null,
   "id": "4da7f351-c8ff-4c2c-adda-d10a27b7eb1a",
   "metadata": {},
   "outputs": [],
   "source": [
    "gwf = sim.get_model()"
   ]
  },
  {
   "cell_type": "code",
   "execution_count": null,
   "id": "27876ab2-2b78-45e3-8aee-6bcb6f725e0c",
   "metadata": {},
   "outputs": [],
   "source": [
    "gwf.modelgrid.set_coord_info(xoff=529999.38, yoff=3420183.60, angrot=0, crs=\"EPSG:26912\")\n",
    "gwf.modelgrid"
   ]
  },
  {
   "cell_type": "code",
   "execution_count": null,
   "id": "25203b48-8a3b-4bda-96b4-11f1c74e47ab",
   "metadata": {},
   "outputs": [],
   "source": [
    "extent = gwf.modelgrid.extent"
   ]
  },
  {
   "cell_type": "markdown",
   "id": "d2d31963-43af-4d68-a238-c1a246be59f2",
   "metadata": {},
   "source": [
    "Add well file for perturbation"
   ]
  },
  {
   "cell_type": "code",
   "execution_count": null,
   "id": "5fc000b0-0ecd-48ee-a89c-0924ef91f363",
   "metadata": {},
   "outputs": [],
   "source": [
    "ca_wel = flopy.mf6.ModflowGwfwel(gwf, maxbound=1, pname=\"ca_well\")"
   ]
  },
  {
   "cell_type": "code",
   "execution_count": null,
   "id": "b751c9d9-ee9e-4562-a705-33005eea0ae6",
   "metadata": {},
   "outputs": [],
   "source": [
    "gwf.get_package_list()"
   ]
  },
  {
   "cell_type": "markdown",
   "id": "adbdf922-d56f-4939-a2e2-1aa6b8510a0f",
   "metadata": {},
   "source": [
    "Change workspace and write files"
   ]
  },
  {
   "cell_type": "code",
   "execution_count": null,
   "id": "37c70909-ca45-4415-8cbe-9e2c6048ec37",
   "metadata": {},
   "outputs": [],
   "source": [
    "new_ws = pl.Path(\"capture_analysis\")\n",
    "sim.set_sim_path(new_ws)\n",
    "sim.write_simulation()"
   ]
  },
  {
   "cell_type": "code",
   "execution_count": null,
   "id": "c680aa0f-5586-4bd0-b6f9-fb2176ff089f",
   "metadata": {},
   "outputs": [],
   "source": [
    "sim.run_simulation()"
   ]
  },
  {
   "cell_type": "code",
   "execution_count": null,
   "id": "07197f5a-78c2-49da-b32b-26669e13a1c9",
   "metadata": {},
   "outputs": [],
   "source": [
    "hobj = gwf.output.head()"
   ]
  },
  {
   "cell_type": "code",
   "execution_count": null,
   "id": "64f2070d-b844-4cf3-a79c-c354798ba005",
   "metadata": {},
   "outputs": [],
   "source": [
    "times = hobj.get_times()\n",
    "times[0], times[-1]"
   ]
  },
  {
   "cell_type": "code",
   "execution_count": null,
   "id": "adf6400e-ca82-4503-9cee-605a8ba16dd8",
   "metadata": {},
   "outputs": [],
   "source": [
    "hds = hobj.get_data(totim=times[-1])"
   ]
  },
  {
   "cell_type": "code",
   "execution_count": null,
   "id": "15ce7776-ec86-485f-a95e-4478ee8332bc",
   "metadata": {},
   "outputs": [],
   "source": [
    "cobj = gwf.output.budget()"
   ]
  },
  {
   "cell_type": "code",
   "execution_count": null,
   "id": "b790ea8c-4166-4268-af87-242a14bb341c",
   "metadata": {},
   "outputs": [],
   "source": [
    "cobj.get_unique_record_names()"
   ]
  },
  {
   "cell_type": "code",
   "execution_count": null,
   "id": "d2c82621-14ee-42bf-9d63-38022f64d964",
   "metadata": {},
   "outputs": [],
   "source": [
    "spdis = cobj.get_data(text=\"DATA-SPDIS\", totim=times[-1])[0]\n",
    "spdis\n",
    "qx, qy, qz = flopy.utils.postprocessing.get_specific_discharge(spdis, gwf, head=hds)"
   ]
  },
  {
   "cell_type": "code",
   "execution_count": null,
   "id": "b9d9cffb-6811-45f8-8b8d-3d3fc6b002c9",
   "metadata": {},
   "outputs": [],
   "source": [
    "mosaic = [\n",
    "    [\"a\", \"b\"], [\"a\", \"b\"], [\"a\", \"b\"], [\"a\", \"b\"], [\"a\", \"b\"],\n",
    "    [\"a\", \"b\"], [\"a\", \"b\"], [\"a\", \"b\"], [\"a\", \"b\"], [\"a\", \"b\"],\n",
    "    [\"c\", \"c\"],\n",
    "]"
   ]
  },
  {
   "cell_type": "code",
   "execution_count": null,
   "id": "504e4e4f-159f-4db0-8688-a4090480adaa",
   "metadata": {},
   "outputs": [],
   "source": [
    "plt_ratio = float(gwf.modelgrid.nrow) / float(gwf.modelgrid.ncol)\n",
    "plt_ratio"
   ]
  },
  {
   "cell_type": "code",
   "execution_count": null,
   "id": "e7b0bb82-efd1-4474-a17b-f28ac4137782",
   "metadata": {},
   "outputs": [],
   "source": [
    "vmin, vmax = 1120, 1680\n",
    "levels = [1200, 1300, 1400, 1500, 1600]\n",
    "width = 7.5\n",
    "height = (plt_ratio + 0.1) * (width / 2)\n",
    "with flopy.plot.styles.USGSPlot():\n",
    "    fig, axs = plt.subplot_mosaic(mosaic, sharey=True, figsize=(width, height), layout=\"constrained\")\n",
    "          \n",
    "    ax = axs[\"a\"]\n",
    "    ax.set_xlim(gwf.modelgrid.extent[0:2])\n",
    "    ax.set_ylim(gwf.modelgrid.extent[2:])\n",
    "    ax.yaxis.offsetText.set_visible(False)\n",
    "    mm = flopy.plot.PlotMapView(model=gwf, ax=ax, layer=3, extent=gwf.modelgrid.extent)\n",
    "    cx.add_basemap(ax, crs=gwf.modelgrid.crs, attribution=False, source=cx_provider)\n",
    "    mm.plot_array(hds, vmin=vmin, vmax=vmax)\n",
    "    mm.plot_bc(\"SFR\", color=\"cyan\")\n",
    "    mm.plot_vector(qx, qy, istep=5, jstep=5, normalize=True)\n",
    "    cs = mm.contour_array(hds, levels=levels, colors=\"black\", linewidths=0.5)\n",
    "    ax.clabel(cs, cs.levels, inline=True, fmt=\"%1.0f\", fontsize=6, inline_spacing=1)\n",
    "    flopy.plot.styles.heading(ax=ax, idx=0, heading=\"Transient Layer 4\")\n",
    "    flopy.plot.styles.xlabel(ax=ax, label=\"x-coordinate, m\")\n",
    "    flopy.plot.styles.ylabel(ax=ax, label=\"y-coordinate (x 10$^6$), m\")\n",
    "\n",
    "    ax = axs[\"b\"]\n",
    "    ax.set_xlim(gwf.modelgrid.extent[0:2])\n",
    "    ax.set_ylim(gwf.modelgrid.extent[2:])\n",
    "    ax.yaxis.offsetText.set_visible(False)\n",
    "    mm = flopy.plot.PlotMapView(model=gwf, ax=ax, layer=4)\n",
    "    cx.add_basemap(ax, crs=gwf.modelgrid.crs, attribution=False, source=cx_provider)\n",
    "    v = mm.plot_array(hds, vmin=vmin, vmax=vmax)\n",
    "    mm.plot_bc(\"SFR\", color=\"cyan\")\n",
    "    mm.plot_vector(qx, qy, istep=5, jstep=5, normalize=True)\n",
    "    cs = mm.contour_array(hds, levels=levels, colors=\"black\", linewidths=0.5)\n",
    "    ax.clabel(cs, cs.levels, inline=True, fmt=\"%1.0f\", fontsize=6, inline_spacing=1)\n",
    "    flopy.plot.styles.heading(ax=ax, idx=1, heading=\"Transient Layer 5\")\n",
    "    flopy.plot.styles.xlabel(ax=ax, label=\"x-coordinate, m\")\n",
    "\n",
    "    ax = axs[\"c\"]\n",
    "    ax.axis(\"off\")\n",
    "    cbar = plt.colorbar(v, ax=ax, orientation=\"horizontal\", extend=\"both\", ticks=levels, fraction=0.5)\n",
    "    cbar.ax.set_xlabel(\"Simulated head, m\", rotation=0)\n",
    "    fig.savefig(\"results_trans.png\", dpi=300)"
   ]
  },
  {
   "cell_type": "markdown",
   "id": "1b9c2daa-0950-4087-9f30-fd9a4894397e",
   "metadata": {},
   "source": [
    "### Get base stream baseflow"
   ]
  },
  {
   "cell_type": "code",
   "execution_count": null,
   "id": "374bffdb-cc63-459a-a9ae-33a0d81cd9f5",
   "metadata": {},
   "outputs": [],
   "source": [
    "Q_base = get_flow(cobj, times[-1])\n",
    "Q_base"
   ]
  },
  {
   "cell_type": "code",
   "execution_count": null,
   "id": "8b954fbd-c8f8-4426-8606-fb9a83aadb45",
   "metadata": {},
   "outputs": [],
   "source": [
    "nlay, nrow, ncol = gwf.dis.nlay.array, gwf.dis.nrow.array, gwf.dis.ncol.array\n",
    "nlay, nrow, ncol"
   ]
  },
  {
   "cell_type": "code",
   "execution_count": null,
   "id": "2f85de17-1d56-4db8-8724-656733b8bb38",
   "metadata": {},
   "outputs": [],
   "source": [
    "idomain = gwf.dis.idomain.array\n",
    "idomain.shape"
   ]
  },
  {
   "cell_type": "code",
   "execution_count": null,
   "id": "fa9247e6-2987-47fa-8794-c3bb90f6a2dd",
   "metadata": {},
   "outputs": [],
   "source": [
    "cf = np.full((nlay, nrow, ncol), -1.0, dtype=float)"
   ]
  },
  {
   "cell_type": "code",
   "execution_count": null,
   "id": "6ed5f6a0-d586-4988-804e-812f932ccb74",
   "metadata": {},
   "outputs": [],
   "source": [
    "k = 3\n",
    "dq = -10.0"
   ]
  },
  {
   "cell_type": "code",
   "execution_count": null,
   "id": "490ef521-c72a-4936-8647-3a1ca86149e8",
   "metadata": {},
   "outputs": [],
   "source": [
    "sample = 2 # calculate cf for every sample location\n",
    "sample_arr = np.array([sample])\n",
    "ilocs = []\n",
    "for i in range(0, nrow, sample):\n",
    "    for j in range(0, ncol, sample):\n",
    "        if idomain[k, i, j] > 0:\n",
    "            ilocs.append((i, j))\n",
    "ilocs = np.array(ilocs)"
   ]
  },
  {
   "cell_type": "code",
   "execution_count": null,
   "id": "2484a2e7-7a54-4517-a3a4-254dd730f7c2",
   "metadata": {},
   "outputs": [],
   "source": [
    "total_cells = ilocs.shape[0]\n",
    "total_cells"
   ]
  },
  {
   "cell_type": "code",
   "execution_count": null,
   "id": "19ebb0c0-fa1c-4a94-8b0c-111cb583da1a",
   "metadata": {},
   "outputs": [],
   "source": [
    "cf_path = \"capture_fraction_transient.npz\""
   ]
  },
  {
   "cell_type": "code",
   "execution_count": null,
   "id": "9b519d0e-11f9-48b4-9683-78b640dd0563",
   "metadata": {},
   "outputs": [],
   "source": [
    "t0 = time.perf_counter()\n",
    "for idx, (i,j) in enumerate(ilocs):\n",
    "   \n",
    "    gwf.ca_well.stress_period_data = {0: [(k, i, j, dq)]}\n",
    "    gwf.ca_well.write()\n",
    "    \n",
    "    sim.run_simulation(silent=True)\n",
    "    Q = get_flow(gwf.output.budget(), times[-1])\n",
    "    \n",
    "    fraction = abs(Q - Q_base) / abs(dq)\n",
    "    cf[k, i, j] = fraction\n",
    "\n",
    "    progress = (idx + 1) / total_cells    \n",
    "    message = (\n",
    "        f\"Location: ({idx:5d}) ({k}, {i:3d}, {j:3d}) \" + \n",
    "        f\"Capture fraction: {fraction: 5.3f} \" + \n",
    "        f\"Percent complete: {progress:7.3%} \" + \n",
    "        f\"Run time: {(time.perf_counter() - t0)/60:9.4f} minutes\"\n",
    "    )\n",
    "    print(message, end=\"\\r\")\n",
    "\n",
    "    if idx % 10 == 0:\n",
    "        np.savez_compressed(cf_path, capture_fraction=cf, sample_size=sample_arr)\n",
    "\n",
    "t1 = time.perf_counter()\n",
    "print(f\"\\n\\nSimulation time: {(t1 - t0)/3600. :9.4f} hours\")"
   ]
  },
  {
   "cell_type": "code",
   "execution_count": null,
   "id": "35c48863-0e16-46a8-80d9-3c204e5cc1e0",
   "metadata": {},
   "outputs": [],
   "source": [
    "np.savez_compressed(cf_path, capture_fraction=cf, sample_size=sample_arr)"
   ]
  },
  {
   "cell_type": "code",
   "execution_count": null,
   "id": "af419739-1c9f-4365-a5ab-1a49a855b749",
   "metadata": {},
   "outputs": [],
   "source": []
  }
 ],
 "metadata": {
  "language_info": {
   "name": "python"
  }
 },
 "nbformat": 4,
 "nbformat_minor": 5
}
